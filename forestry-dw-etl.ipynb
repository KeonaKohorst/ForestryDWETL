{
 "cells": [
  {
   "cell_type": "code",
   "execution_count": 2,
   "id": "7f02f0da-d0c7-473a-8195-dc050e1b757a",
   "metadata": {},
   "outputs": [
    {
     "name": "stdout",
     "output_type": "stream",
     "text": [
      "Collecting roboflow\n",
      "  Using cached roboflow-1.1.58-py3-none-any.whl.metadata (9.7 kB)\n",
      "Requirement already satisfied: certifi in c:\\users\\kohor\\appdata\\local\\programs\\python\\python312\\lib\\site-packages (from roboflow) (2024.8.30)\n",
      "Collecting idna==3.7 (from roboflow)\n",
      "  Using cached idna-3.7-py3-none-any.whl.metadata (9.9 kB)\n",
      "Requirement already satisfied: cycler in c:\\users\\kohor\\appdata\\local\\programs\\python\\python312\\lib\\site-packages (from roboflow) (0.12.1)\n",
      "Requirement already satisfied: kiwisolver>=1.3.1 in c:\\users\\kohor\\appdata\\local\\programs\\python\\python312\\lib\\site-packages (from roboflow) (1.4.7)\n",
      "Requirement already satisfied: matplotlib in c:\\users\\kohor\\appdata\\local\\programs\\python\\python312\\lib\\site-packages (from roboflow) (3.9.2)\n",
      "Requirement already satisfied: numpy>=1.18.5 in c:\\users\\kohor\\appdata\\local\\programs\\python\\python312\\lib\\site-packages (from roboflow) (2.0.2)\n",
      "Collecting opencv-python-headless==4.10.0.84 (from roboflow)\n",
      "  Using cached opencv_python_headless-4.10.0.84-cp37-abi3-win_amd64.whl.metadata (20 kB)\n",
      "Requirement already satisfied: Pillow>=7.1.2 in c:\\users\\kohor\\appdata\\local\\programs\\python\\python312\\lib\\site-packages (from roboflow) (10.4.0)\n",
      "Requirement already satisfied: pillow-heif>=0.18.0 in c:\\users\\kohor\\appdata\\local\\programs\\python\\python312\\lib\\site-packages (from roboflow) (0.22.0)\n",
      "Requirement already satisfied: python-dateutil in c:\\users\\kohor\\appdata\\local\\programs\\python\\python312\\lib\\site-packages (from roboflow) (2.9.0.post0)\n",
      "Requirement already satisfied: python-dotenv in c:\\users\\kohor\\appdata\\local\\programs\\python\\python312\\lib\\site-packages (from roboflow) (1.0.1)\n",
      "Requirement already satisfied: requests in c:\\users\\kohor\\appdata\\local\\programs\\python\\python312\\lib\\site-packages (from roboflow) (2.32.3)\n",
      "Requirement already satisfied: six in c:\\users\\kohor\\appdata\\local\\programs\\python\\python312\\lib\\site-packages (from roboflow) (1.16.0)\n",
      "Requirement already satisfied: urllib3>=1.26.6 in c:\\users\\kohor\\appdata\\local\\programs\\python\\python312\\lib\\site-packages (from roboflow) (2.2.2)\n",
      "Requirement already satisfied: tqdm>=4.41.0 in c:\\users\\kohor\\appdata\\local\\programs\\python\\python312\\lib\\site-packages (from roboflow) (4.67.1)\n",
      "Requirement already satisfied: PyYAML>=5.3.1 in c:\\users\\kohor\\appdata\\local\\programs\\python\\python312\\lib\\site-packages (from roboflow) (6.0.2)\n",
      "Collecting requests-toolbelt (from roboflow)\n",
      "  Using cached requests_toolbelt-1.0.0-py2.py3-none-any.whl.metadata (14 kB)\n",
      "Requirement already satisfied: filetype in c:\\users\\kohor\\appdata\\local\\programs\\python\\python312\\lib\\site-packages (from roboflow) (1.2.0)\n",
      "Requirement already satisfied: colorama in c:\\users\\kohor\\appdata\\local\\programs\\python\\python312\\lib\\site-packages (from tqdm>=4.41.0->roboflow) (0.4.6)\n",
      "Requirement already satisfied: contourpy>=1.0.1 in c:\\users\\kohor\\appdata\\local\\programs\\python\\python312\\lib\\site-packages (from matplotlib->roboflow) (1.3.0)\n",
      "Requirement already satisfied: fonttools>=4.22.0 in c:\\users\\kohor\\appdata\\local\\programs\\python\\python312\\lib\\site-packages (from matplotlib->roboflow) (4.54.1)\n",
      "Requirement already satisfied: packaging>=20.0 in c:\\users\\kohor\\appdata\\local\\programs\\python\\python312\\lib\\site-packages (from matplotlib->roboflow) (24.1)\n",
      "Requirement already satisfied: pyparsing>=2.3.1 in c:\\users\\kohor\\appdata\\local\\programs\\python\\python312\\lib\\site-packages (from matplotlib->roboflow) (3.1.4)\n",
      "Requirement already satisfied: charset-normalizer<4,>=2 in c:\\users\\kohor\\appdata\\local\\programs\\python\\python312\\lib\\site-packages (from requests->roboflow) (3.3.2)\n",
      "Using cached roboflow-1.1.58-py3-none-any.whl (84 kB)\n",
      "Using cached idna-3.7-py3-none-any.whl (66 kB)\n",
      "Using cached opencv_python_headless-4.10.0.84-cp37-abi3-win_amd64.whl (38.8 MB)\n",
      "Using cached requests_toolbelt-1.0.0-py2.py3-none-any.whl (54 kB)\n",
      "Installing collected packages: opencv-python-headless, idna, requests-toolbelt, roboflow\n",
      "Successfully installed idna-3.7 opencv-python-headless-4.10.0.84 requests-toolbelt-1.0.0 roboflow-1.1.58\n"
     ]
    },
    {
     "name": "stderr",
     "output_type": "stream",
     "text": [
      "  WARNING: The script roboflow.exe is installed in 'C:\\Users\\kohor\\AppData\\Roaming\\Python\\Python312\\Scripts' which is not on PATH.\n",
      "  Consider adding this directory to PATH or, if you prefer to suppress this warning, use --no-warn-script-location.\n",
      "\n",
      "[notice] A new release of pip is available: 24.3.1 -> 25.0.1\n",
      "[notice] To update, run: python.exe -m pip install --upgrade pip\n"
     ]
    }
   ],
   "source": [
    "!pip install --user roboflow\n"
   ]
  },
  {
   "cell_type": "code",
   "execution_count": 4,
   "id": "cec99cd3-81c9-4f28-9318-9d1a7a977280",
   "metadata": {},
   "outputs": [
    {
     "name": "stdout",
     "output_type": "stream",
     "text": [
      "Name: roboflow\n",
      "Version: 1.1.58\n",
      "Summary: Official Python package for working with the Roboflow API\n",
      "Home-page: https://github.com/roboflow-ai/roboflow-python\n",
      "Author: Roboflow\n",
      "Author-email: support@roboflow.com\n",
      "License: UNKNOWN\n",
      "Location: C:\\Users\\kohor\\AppData\\Roaming\\Python\\Python312\\site-packages\n",
      "Requires: certifi, cycler, filetype, idna, kiwisolver, matplotlib, numpy, opencv-python-headless, Pillow, pillow-heif, python-dateutil, python-dotenv, PyYAML, requests, requests-toolbelt, six, tqdm, urllib3\n",
      "Required-by: \n"
     ]
    }
   ],
   "source": [
    "!pip show roboflow\n"
   ]
  },
  {
   "cell_type": "code",
   "execution_count": 5,
   "id": "81c0af80-65c2-4c32-bf40-2805e4bfe1cc",
   "metadata": {},
   "outputs": [
    {
     "name": "stdout",
     "output_type": "stream",
     "text": [
      "C:\\Users\\kohor\\AppData\\Local\\Programs\\Python\\Python312\\python.exe\n"
     ]
    }
   ],
   "source": [
    "import sys\n",
    "print(sys.executable)"
   ]
  },
  {
   "cell_type": "code",
   "execution_count": 12,
   "id": "858ac8bb-5ffc-4cd4-9896-4f920a5aed82",
   "metadata": {},
   "outputs": [
    {
     "name": "stdout",
     "output_type": "stream",
     "text": [
      "loading Roboflow workspace...\n",
      "loading Roboflow project...\n"
     ]
    },
    {
     "name": "stderr",
     "output_type": "stream",
     "text": [
      "Downloading Dataset Version Zip in UAV-Tree-Identification---NEW-4 to multiclass:: 100%|█| 324451/324451 [00:11<00:00, "
     ]
    },
    {
     "name": "stdout",
     "output_type": "stream",
     "text": [
      "\n"
     ]
    },
    {
     "name": "stderr",
     "output_type": "stream",
     "text": [
      "\n",
      "Extracting Dataset Version Zip to UAV-Tree-Identification---NEW-4 in multiclass:: 100%|█| 58/58 [00:01<00:00, 56.86it/s\n"
     ]
    }
   ],
   "source": [
    "\n",
    "import sys\n",
    "sys.path.append(r\"C:\\Users\\kohor\\AppData\\Roaming\\Python\\Python312\\site-packages\")\n",
    "from roboflow import Roboflow\n",
    "rf = Roboflow(api_key=\"LgU0XOAtKhZfJJtlmffs\")\n",
    "project = rf.workspace(\"arura-uav\").project(\"uav-tree-identification-new\")\n",
    "version = project.version(4)\n",
    "dataset = version.download(\"multiclass\")\n",
    "                "
   ]
  },
  {
   "cell_type": "code",
   "execution_count": 13,
   "id": "e32d0ebb-cebe-485a-bc50-681711d6114e",
   "metadata": {},
   "outputs": [
    {
     "name": "stdout",
     "output_type": "stream",
     "text": [
      "C:\\Users\\kohor\\cosc437\\kristina-dw\\UAV-Tree-Identification---NEW-4\n"
     ]
    }
   ],
   "source": [
    "print(dataset.location)  # Shows the path where the dataset is stored"
   ]
  },
  {
   "cell_type": "code",
   "execution_count": 15,
   "id": "4d8dab2a-714f-4265-964a-67ee0e523da1",
   "metadata": {},
   "outputs": [
    {
     "name": "stdout",
     "output_type": "stream",
     "text": [
      "['README.dataset.txt', 'README.roboflow.txt', 'test', 'train', 'valid']\n"
     ]
    }
   ],
   "source": [
    "import os\n",
    "\n",
    "dataset_path = r\"C:\\Users\\kohor\\cosc437\\kristina-dw\\UAV-Tree-Identification---NEW-4\"\n",
    "\n",
    "# List files in the dataset directory\n",
    "print(os.listdir(dataset_path))\n"
   ]
  },
  {
   "cell_type": "code",
   "execution_count": 18,
   "id": "9fd89139-080c-41ec-af66-9c96382bd4e4",
   "metadata": {},
   "outputs": [
    {
     "name": "stdout",
     "output_type": "stream",
     "text": [
      "                                            filename   fir   pine   spruce  \\\n",
      "0  DJI_20230217155712_0172_JPG.rf.a9d73e3dc30dca8...     0      0        0   \n",
      "1  DJI_20230217155535_0100_JPG.rf.1a1c3c8dccc98a8...     0      0        0   \n",
      "2  DJI_20230217160322_0444_JPG.rf.7e9b6155e2567e5...     0      1        0   \n",
      "3  DJI_20230217155845_0240_JPG.rf.7f1fcc81b51665b...     0      0        0   \n",
      "4  DJI_20230217161627_0022_JPG.rf.29b46ce0d81c65b...     1      0        1   \n",
      "\n",
      "    trembling aspen  \n",
      "0                 0  \n",
      "1                 0  \n",
      "2                 0  \n",
      "3                 0  \n",
      "4                 0  \n"
     ]
    },
    {
     "data": {
      "text/html": [
       "<div>\n",
       "<style scoped>\n",
       "    .dataframe tbody tr th:only-of-type {\n",
       "        vertical-align: middle;\n",
       "    }\n",
       "\n",
       "    .dataframe tbody tr th {\n",
       "        vertical-align: top;\n",
       "    }\n",
       "\n",
       "    .dataframe thead th {\n",
       "        text-align: right;\n",
       "    }\n",
       "</style>\n",
       "<table border=\"1\" class=\"dataframe\">\n",
       "  <thead>\n",
       "    <tr style=\"text-align: right;\">\n",
       "      <th></th>\n",
       "      <th>filename</th>\n",
       "      <th>fir</th>\n",
       "      <th>pine</th>\n",
       "      <th>spruce</th>\n",
       "      <th>trembling aspen</th>\n",
       "    </tr>\n",
       "  </thead>\n",
       "  <tbody>\n",
       "    <tr>\n",
       "      <th>0</th>\n",
       "      <td>DJI_20230217155712_0172_JPG.rf.a9d73e3dc30dca8...</td>\n",
       "      <td>0</td>\n",
       "      <td>0</td>\n",
       "      <td>0</td>\n",
       "      <td>0</td>\n",
       "    </tr>\n",
       "    <tr>\n",
       "      <th>1</th>\n",
       "      <td>DJI_20230217155535_0100_JPG.rf.1a1c3c8dccc98a8...</td>\n",
       "      <td>0</td>\n",
       "      <td>0</td>\n",
       "      <td>0</td>\n",
       "      <td>0</td>\n",
       "    </tr>\n",
       "    <tr>\n",
       "      <th>2</th>\n",
       "      <td>DJI_20230217160322_0444_JPG.rf.7e9b6155e2567e5...</td>\n",
       "      <td>0</td>\n",
       "      <td>1</td>\n",
       "      <td>0</td>\n",
       "      <td>0</td>\n",
       "    </tr>\n",
       "    <tr>\n",
       "      <th>3</th>\n",
       "      <td>DJI_20230217155845_0240_JPG.rf.7f1fcc81b51665b...</td>\n",
       "      <td>0</td>\n",
       "      <td>0</td>\n",
       "      <td>0</td>\n",
       "      <td>0</td>\n",
       "    </tr>\n",
       "    <tr>\n",
       "      <th>4</th>\n",
       "      <td>DJI_20230217161627_0022_JPG.rf.29b46ce0d81c65b...</td>\n",
       "      <td>1</td>\n",
       "      <td>0</td>\n",
       "      <td>1</td>\n",
       "      <td>0</td>\n",
       "    </tr>\n",
       "  </tbody>\n",
       "</table>\n",
       "</div>"
      ],
      "text/plain": [
       "                                            filename   fir   pine   spruce  \\\n",
       "0  DJI_20230217155712_0172_JPG.rf.a9d73e3dc30dca8...     0      0        0   \n",
       "1  DJI_20230217155535_0100_JPG.rf.1a1c3c8dccc98a8...     0      0        0   \n",
       "2  DJI_20230217160322_0444_JPG.rf.7e9b6155e2567e5...     0      1        0   \n",
       "3  DJI_20230217155845_0240_JPG.rf.7f1fcc81b51665b...     0      0        0   \n",
       "4  DJI_20230217161627_0022_JPG.rf.29b46ce0d81c65b...     1      0        1   \n",
       "\n",
       "    trembling aspen  \n",
       "0                 0  \n",
       "1                 0  \n",
       "2                 0  \n",
       "3                 0  \n",
       "4                 0  "
      ]
     },
     "execution_count": 18,
     "metadata": {},
     "output_type": "execute_result"
    }
   ],
   "source": [
    "import pandas as pd\n",
    "\n",
    "annotations_path = os.path.join(dataset_path, \"train\", \"_classes.csv\")  # Adjust if needed\n",
    "\n",
    "# Check if the file exists before loading\n",
    "if os.path.exists(annotations_path):\n",
    "    df = pd.read_csv(annotations_path)\n",
    "    print(df.head())  # Show first few rows\n",
    "else:\n",
    "    print(\"Annotations file not found.\")\n",
    "\n",
    "\n",
    "df.head()"
   ]
  },
  {
   "cell_type": "code",
   "execution_count": null,
   "id": "eb10b1ec-eb8b-44a3-b47b-601ca99e2208",
   "metadata": {},
   "outputs": [],
   "source": []
  }
 ],
 "metadata": {
  "kernelspec": {
   "display_name": "Python 3 (ipykernel)",
   "language": "python",
   "name": "python3"
  },
  "language_info": {
   "codemirror_mode": {
    "name": "ipython",
    "version": 3
   },
   "file_extension": ".py",
   "mimetype": "text/x-python",
   "name": "python",
   "nbconvert_exporter": "python",
   "pygments_lexer": "ipython3",
   "version": "3.12.6"
  }
 },
 "nbformat": 4,
 "nbformat_minor": 5
}
